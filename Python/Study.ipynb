{
 "cells": [
  {
   "cell_type": "code",
   "execution_count": null,
   "id": "7a370617-fe34-45cf-99fa-b5a628cecef4",
   "metadata": {},
   "outputs": [],
   "source": [
    "def linear_search(arr, x):\n",
    "    for i in range(len(arr)):\n",
    "        if arr[i] == x:\n",
    "            return True\n",
    "    return False"
   ]
  },
  {
   "cell_type": "code",
   "execution_count": null,
   "id": "d42e4e6d-ba9d-43ea-b414-28a0ebd3b0c5",
   "metadata": {},
   "outputs": [],
   "source": [
    "def binary_search(arr, x):\n",
    "    start, end = 0, len(arr) - 1\n",
    "\n",
    "    while start <= end:\n",
    "        mid = (start + end) // 2\n",
    "\n",
    "        if arr[mid] == target:\n",
    "            return mid\n",
    "        elif arr[mid] < target:\n",
    "            start = mid + 1\n",
    "        else:\n",
    "            end = mid - 1\n",
    "\n",
    "    return -1"
   ]
  },
  {
   "cell_type": "code",
   "execution_count": 4,
   "id": "3e08bf6f-ee87-41fd-9229-ce45656b4770",
   "metadata": {},
   "outputs": [],
   "source": [
    "N = 4 # int(input())\n",
    "arr = [120, 110, 140, 150] # list(map(int, input().split()))\n",
    "M = 485 # int(input())"
   ]
  },
  {
   "cell_type": "code",
   "execution_count": 12,
   "id": "272e3500-5753-4218-bc7d-bcf423a30a2d",
   "metadata": {},
   "outputs": [],
   "source": [
    "def binary_search(arr, M):\n",
    "    start, end = 0, max(arr)\n",
    "\n",
    "    mid = 0\n",
    "    answer = 0\n",
    "    while start <= end:\n",
    "        mid = (start + end) // 2\n",
    "\n",
    "        s = 0\n",
    "        for a in arr:\n",
    "            if a >= mid:\n",
    "                s += mid\n",
    "            else:\n",
    "                s += a\n",
    "        if s <= M:\n",
    "            start = mid + 1\n",
    "            answer = mid\n",
    "        else:\n",
    "            end = mid - 1\n",
    "\n",
    "    return answer"
   ]
  },
  {
   "cell_type": "code",
   "execution_count": 13,
   "id": "7d389134-768d-40dc-be63-6dc179ea5141",
   "metadata": {},
   "outputs": [
    {
     "data": {
      "text/plain": [
       "127"
      ]
     },
     "execution_count": 13,
     "metadata": {},
     "output_type": "execute_result"
    }
   ],
   "source": [
    "binary_search(arr, M)"
   ]
  },
  {
   "cell_type": "code",
   "execution_count": 2,
   "id": "94c8316c-bedb-40b9-8602-b8817497f160",
   "metadata": {},
   "outputs": [],
   "source": [
    "from itertools import combinations"
   ]
  },
  {
   "cell_type": "code",
   "execution_count": 8,
   "id": "451cfcf9",
   "metadata": {},
   "outputs": [
    {
     "data": {
      "text/plain": [
       "'0b1111010'"
      ]
     },
     "execution_count": 8,
     "metadata": {},
     "output_type": "execute_result"
    }
   ],
   "source": [
    "n = 122\n",
    "bin(n)"
   ]
  },
  {
   "cell_type": "code",
   "execution_count": 1,
   "id": "b3991494",
   "metadata": {},
   "outputs": [
    {
     "data": {
      "text/plain": [
       "0"
      ]
     },
     "execution_count": 1,
     "metadata": {},
     "output_type": "execute_result"
    }
   ],
   "source": [
    "len([])"
   ]
  },
  {
   "cell_type": "code",
   "execution_count": null,
   "id": "88955d3b",
   "metadata": {},
   "outputs": [],
   "source": []
  },
  {
   "cell_type": "code",
   "execution_count": 7,
   "id": "96835595",
   "metadata": {},
   "outputs": [
    {
     "data": {
      "text/plain": [
       "1"
      ]
     },
     "execution_count": 7,
     "metadata": {},
     "output_type": "execute_result"
    }
   ],
   "source": [
    "n = 5\n",
    "ans = 0\n",
    "while n > 0:\n",
    "    if n % 2 == 1:\n",
    "        ans+=1\n",
    "    n /= 2\n",
    "ans"
   ]
  },
  {
   "cell_type": "code",
   "execution_count": 33,
   "id": "1412438f",
   "metadata": {},
   "outputs": [],
   "source": [
    "import math\n",
    "\n",
    "def isPrime(x):\n",
    "    if x == 1:\n",
    "        return False\n",
    "    for i in range(2, int(math.sqrt(x)) + 1):\n",
    "        if x % i == 0:\n",
    "            return False\n",
    "    return True\n",
    "\n",
    "def solution(n, k):\n",
    "    answer = 0\n",
    "    \n",
    "    numbers = []\n",
    "    count = 0\n",
    "    num = 0\n",
    "    \n",
    "    while n > 0:\n",
    "        if n % k == 0:\n",
    "            numbers.append(num)\n",
    "            print(num)\n",
    "\n",
    "            num = 0\n",
    "            count = 0\n",
    "        else:\n",
    "            num += (n % k) * math.pow(10, count)\n",
    "            count += 1\n",
    "            \n",
    "        n = n // k\n",
    "        \n",
    "        if n == 0:\n",
    "            print(num)\n",
    "            numbers.append(num)\n",
    "    \n",
    "    for number in numbers:\n",
    "        if isPrime(number) and number > 1:\n",
    "            answer += 1\n",
    "    \n",
    "    return answer"
   ]
  },
  {
   "cell_type": "code",
   "execution_count": null,
   "id": "908aba47",
   "metadata": {},
   "outputs": [],
   "source": []
  },
  {
   "cell_type": "code",
   "execution_count": null,
   "id": "7fc748d6",
   "metadata": {},
   "outputs": [],
   "source": []
  },
  {
   "cell_type": "code",
   "execution_count": null,
   "id": "88a43215",
   "metadata": {},
   "outputs": [],
   "source": [
    "# 11011"
   ]
  },
  {
   "cell_type": "code",
   "execution_count": 1,
   "id": "fd497128",
   "metadata": {},
   "outputs": [],
   "source": [
    "# 11011 11011 00000 11011 11011"
   ]
  },
  {
   "cell_type": "code",
   "execution_count": 1,
   "id": "69c17616",
   "metadata": {},
   "outputs": [],
   "source": [
    "# 11011 11011 00000 11011 11011 11011 11011 00000 11011 11011 00000 00000 00000 00000 00000 11011 11011 00000 11011 11011 11011 11011 00000 11011 11011"
   ]
  },
  {
   "cell_type": "code",
   "execution_count": null,
   "id": "b8b14cd5",
   "metadata": {},
   "outputs": [
    {
     "name": "stdout",
     "output_type": "stream",
     "text": [
      "6 0 5\n",
      "2\n",
      "3\n",
      "5\n",
      "7\n",
      "8\n",
      "9\n"
     ]
    },
    {
     "data": {
      "text/plain": [
       "'775841'"
      ]
     },
     "execution_count": 27,
     "metadata": {},
     "output_type": "execute_result"
    }
   ],
   "source": [
    "number = '4177252841'\n",
    "answer = []\n",
    "k = 4\n",
    "\n",
    "l = len(number) - k\n",
    "left = 0\n",
    "right = len(number) - l + 1\n",
    "print(l, left, right)\n",
    "for i in range(l):\n",
    "    maxNum = '0'\n",
    "    maxIndex = -1\n",
    "    for j in range(left, right, 1):\n",
    "        if ord(maxNum) < ord(number[j]):\n",
    "            maxNum = number[j]\n",
    "            maxIndex = j\n",
    "    print(maxIndex)\n",
    "    answer.append(maxNum)\n",
    "    left = maxIndex + 1\n",
    "    right += 1\n",
    "''.join(answer)"
   ]
  },
  {
   "cell_type": "code",
   "execution_count": 25,
   "id": "a2eee708",
   "metadata": {},
   "outputs": [],
   "source": [
    "answer = []\n",
    "\n",
    "ranges = [[0,0],[0,-1],[2,-3],[3,-3]]\t\n",
    "\n",
    "Y = [5]\n",
    "sum = [0]*(k+1)\n",
    "while k != 1:\n",
    "    if k % 2 == 1:\n",
    "        k = k * 3 + 1\n",
    "        Y.append(k)\n",
    "    else:\n",
    "        k //= 2\n",
    "        Y.append(k)\n",
    "sum = [0]*(len(Y)+1)\n",
    "\n",
    "for i in range(2, len(Y) + 1):\n",
    "    sum[i] = sum[i - 1] + (Y[i - 2] + Y[i - 1]) / 2\n",
    "\n",
    "for r in ranges:\n",
    "    left = r[0] + 1\n",
    "    right = len(Y) + r[1]\n",
    "    if left > right:\n",
    "        answer.append(-1)\n",
    "    else:\n",
    "        answer.append(sum[right]-sum[left])"
   ]
  },
  {
   "cell_type": "code",
   "execution_count": 21,
   "id": "e45af8f7",
   "metadata": {},
   "outputs": [
    {
     "data": {
      "text/plain": [
       "[33.0, 31.5, 0.0, -1]"
      ]
     },
     "execution_count": 21,
     "metadata": {},
     "output_type": "execute_result"
    }
   ],
   "source": [
    "answer"
   ]
  },
  {
   "cell_type": "code",
   "execution_count": null,
   "id": "4f394d60",
   "metadata": {},
   "outputs": [],
   "source": []
  }
 ],
 "metadata": {
  "kernelspec": {
   "display_name": "fastcampus",
   "language": "python",
   "name": "python3"
  },
  "language_info": {
   "codemirror_mode": {
    "name": "ipython",
    "version": 3
   },
   "file_extension": ".py",
   "mimetype": "text/x-python",
   "name": "python",
   "nbconvert_exporter": "python",
   "pygments_lexer": "ipython3",
   "version": "3.9.21"
  }
 },
 "nbformat": 4,
 "nbformat_minor": 5
}
